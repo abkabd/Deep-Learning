{
 "cells": [
  {
   "cell_type": "markdown",
   "metadata": {
    "colab_type": "text",
    "id": "BsP8X727kQMe"
   },
   "source": [
    "# Midterm. Обучение нейронных сетей на PyTorch.\n",
    "\n",
    "\n",
    "Вам необходимо заполнить пропуски в ноутбуке. Кое-где вас просят сделать выводы о проделанной работе. Постарайтесь ответить на вопросы обдуманно и развёрнуто. \n"
   ]
  },
  {
   "cell_type": "code",
   "execution_count": 499,
   "metadata": {
    "colab": {},
    "colab_type": "code",
    "id": "p-2rBvEkkQMj"
   },
   "outputs": [],
   "source": [
    "import torch\n",
    "from torch import nn\n",
    "from torch import functional as F\n",
    "import pandas as pd\n",
    "import numpy as np\n",
    "from sklearn.model_selection import train_test_split\n",
    "from matplotlib import pyplot as plt"
   ]
  },
  {
   "cell_type": "markdown",
   "metadata": {
    "colab_type": "text",
    "id": "PHc7UePMkQMp"
   },
   "source": [
    "# Дисклеймер про CrossEntropyLoss и NLLLoss\n",
    "\n",
    "Обычно в PyTorch не нужно делать Softmax как последний слой модели. \n",
    "\n",
    "* Если Вы используете NLLLoss, то ему на вход надо давать лог вероятности, то есть выход слоя LogSoftmax. (Просто результат софтмакса, к которому применен логарифм)\n",
    "* Если Вы используете CrossEntropyLoss, то применение LogSoftmax уже включено внутрь лосса, поэтому ему на вход надо подавать просто выход обычного линейного слоя без активации. По сути CrossEntropyLoss = LogSoftmax + NLLLoss\n",
    "\n",
    "Зачем такие сложности, чтобы посчитать обычную кросс энтропию, которую мы использовали как лосс еще в логистической регрессии? Дело в том, что нам в любом случае придется взять логарифм от результатов софтмакса, а если делать это одной функцией, то можно сделать более устойчивую реализацию, которая даст меньшую вычислительную погрешность. \n",
    "\n",
    "Таким образом, если у вас в конце сети, решающей задачу классификации, стоит просто линейный слой без активации, то вам нужно использовать CrossEntropy. В этой домашке везде используется лосс CrossEntropy"
   ]
  },
  {
   "cell_type": "markdown",
   "metadata": {
    "colab_type": "text",
    "id": "8rM9IY0YkQMq"
   },
   "source": [
    "# Задание 1. Создайте генератор батчей. \n",
    "\n",
    "В этот раз мы хотим сделать генератор, который будет максимально похож на то, что используется в реальном обучении. \n",
    "\n",
    "С помощью numpy вам нужно перемешать исходную выборку и выбирать из нее батчи размером batch_size, если размер выборки не делился на размер батча, то последний батч должен иметь размер меньше batch_size и состоять просто из всех оставшихся объектов. Возвращать нужно в формате (X_batch, y_batch). Необходимо написать именно генератор, то есть вместо return использовать yield. \n",
    "\n",
    "Хорошая статья про генераторы: https://habr.com/ru/post/132554/\n",
    "\n",
    "\n",
    "**Ответ на задание - код**\n"
   ]
  },
  {
   "cell_type": "code",
   "execution_count": 500,
   "metadata": {
    "colab": {},
    "colab_type": "code",
    "id": "ttf6PZuVkQMr"
   },
   "outputs": [],
   "source": [
    "def batch_generator(X, y, batch_size):\n",
    "    np.random.seed(42)\n",
    "    n_samples = X.shape[0]\n",
    "    indices = np.arange(n_samples)\n",
    "    np.random.shuffle(indices)\n",
    "\n",
    "    # YOUR CODE\n",
    "    for start in range(0, n_samples, batch_size):\n",
    "        end = min(start + batch_size, n_samples)\n",
    "\n",
    "        batch_idx = indices[start:end]\n",
    "\n",
    "        yield X[batch_idx], y[batch_idx]"
   ]
  },
  {
   "cell_type": "markdown",
   "metadata": {
    "colab_type": "text",
    "id": "2RvSIsl-c5lW"
   },
   "source": [
    "Попробуем потестировать наш код"
   ]
  },
  {
   "cell_type": "code",
   "execution_count": 501,
   "metadata": {
    "colab": {},
    "colab_type": "code",
    "id": "U_snYtUUcpDy"
   },
   "outputs": [],
   "source": [
    "from inspect import isgeneratorfunction\n",
    "assert isgeneratorfunction(batch_generator), \"batch_generator должен быть генератором! В условии есть ссылка на доки\"\n",
    "\n",
    "X = np.array([\n",
    "              [1, 2, 3],\n",
    "              [4, 5, 6],\n",
    "              [7, 8, 9]\n",
    "])\n",
    "y = np.array([\n",
    "              1, 2, 3\n",
    "])\n",
    "\n",
    "# Проверим shape первого батча\n",
    "iterator = batch_generator(X, y, 2)\n",
    "X_batch, y_batch = next(iterator)\n",
    "assert X_batch.shape == (2, 3), y_batch.shape == (2,)\n",
    "assert np.allclose(X_batch, X[:2]), np.allclose(y_batch, y[:2])\n",
    "\n",
    "# Проверим shape последнего батча (их всего два)\n",
    "X_batch, y_batch = next(iterator)\n",
    "assert X_batch.shape == (1, 3), y_batch.shape == (1,)\n",
    "assert np.allclose(X_batch, X[2:]), np.allclose(y_batch, y[2:])\n",
    "\n",
    "# Проверим, что итерации закончились\n",
    "iter_ended = False\n",
    "try:\n",
    "    next(iterator)\n",
    "except StopIteration:\n",
    "    iter_ended = True\n",
    "assert iter_ended\n",
    "\n",
    "# Еще раз проверим то, сколько батчей создает итератор\n",
    "X = np.random.randint(0, 100, size=(1000, 100))\n",
    "y = np.random.randint(-1, 1, size=(1000, 1))\n",
    "num_iter = 0\n",
    "for _ in batch_generator(X, y, 3):\n",
    "    num_iter += 1\n",
    "assert num_iter == (1000 // 3 + 1)"
   ]
  },
  {
   "cell_type": "markdown",
   "metadata": {
    "colab_type": "text",
    "id": "yJ9_3VfrkQMv"
   },
   "source": [
    "# Задание 2. Обучите модель для классификации звезд\n",
    "\n",
    "Загрузите датасет из файла sky_data.csv, разделите его на train/test и обучите на нем нейронную сеть (архитектура ниже). Обучайте на батчах с помощью оптимизатора Adam, lr подберите сами, пробуйте что-то вроде 1e-2\n",
    "\n",
    "Архитектура:\n",
    "\n",
    "1. Dense Layer с relu активацией и 50 нейронами\n",
    "2. Dropout 80% (если другой keep rate дает сходимость лучше, то можно изменить) (попробуйте 50%) \n",
    "3. BatchNorm\n",
    "4. Dense Layer с relu активацией и 100 нейронами\n",
    "5. Dropout 80% (если другой keep rate дает сходимость лучше, то можно изменить) (попробуйте для разнообразия 50%)\n",
    "6. BatchNorm\n",
    "7. Выходной Dense слой c количеством нейронов, равному количеству классов\n",
    "\n",
    "Лосс - CrossEntropy."
   ]
  },
  {
   "cell_type": "markdown",
   "metadata": {
    "colab_type": "text",
    "id": "qTd7VFMskQMw"
   },
   "source": [
    "В датасете классы представлены строками, поэтому классы нужно закодировать. Для этого в строчке ниже объявлен dict, с помощью него и функции map превратите столбец с таргетом в целое число. Кроме того, за вас мы выделили признаки, которые нужно использовать."
   ]
  },
  {
   "cell_type": "markdown",
   "metadata": {
    "colab_type": "text",
    "id": "MTMs6bU6kQMx"
   },
   "source": [
    "### Загрузка и обработка данных"
   ]
  },
  {
   "cell_type": "code",
   "execution_count": 502,
   "metadata": {
    "colab": {},
    "colab_type": "code",
    "id": "Ci8mdz99kQMy"
   },
   "outputs": [],
   "source": [
    "feature_columns = ['ra', 'dec', 'u', 'g', 'r', 'i', 'z', 'run', 'camcol', 'field']\n",
    "target_column = 'class'\n",
    "\n",
    "target_mapping = {\n",
    "    'GALAXY': 0,\n",
    "    'STAR': 1,\n",
    "    'QSO': 2\n",
    "}"
   ]
  },
  {
   "cell_type": "code",
   "execution_count": 503,
   "metadata": {
    "colab": {
     "base_uri": "https://localhost:8080/",
     "height": 85
    },
    "colab_type": "code",
    "executionInfo": {
     "elapsed": 2450,
     "status": "ok",
     "timestamp": 1586246030358,
     "user": {
      "displayName": "Yury Yarovikov",
      "photoUrl": "https://lh3.googleusercontent.com/a-/AOh14Gip8__BUAkkFW7zB1tjXwB7Y8uEezomM5ErVG2V=s64",
      "userId": "05223355485824927663"
     },
     "user_tz": -180
    },
    "id": "QRcIYVvUkQM2",
    "outputId": "8c6b62aa-45d3-4a89-bc39-6470c22861f5"
   },
   "outputs": [
    {
     "data": {
      "text/plain": [
       "GALAXY    4998\n",
       "STAR      4152\n",
       "QSO        850\n",
       "Name: class, dtype: int64"
      ]
     },
     "execution_count": 503,
     "metadata": {},
     "output_type": "execute_result"
    }
   ],
   "source": [
    "data = pd.read_csv('https://drive.google.com/uc?id=1K-8CtATw6Sv7k2dXco1fL5MAhTbKtIH3')\n",
    "data['class'].value_counts()"
   ]
  },
  {
   "cell_type": "code",
   "execution_count": 504,
   "metadata": {
    "colab": {
     "base_uri": "https://localhost:8080/",
     "height": 221
    },
    "colab_type": "code",
    "executionInfo": {
     "elapsed": 1446,
     "status": "ok",
     "timestamp": 1586246142286,
     "user": {
      "displayName": "Yury Yarovikov",
      "photoUrl": "https://lh3.googleusercontent.com/a-/AOh14Gip8__BUAkkFW7zB1tjXwB7Y8uEezomM5ErVG2V=s64",
      "userId": "05223355485824927663"
     },
     "user_tz": -180
    },
    "id": "XQJyao1zoytL",
    "outputId": "bafda877-842b-42fe-9793-c765aee737a2"
   },
   "outputs": [
    {
     "data": {
      "text/html": [
       "<div>\n",
       "<style scoped>\n",
       "    .dataframe tbody tr th:only-of-type {\n",
       "        vertical-align: middle;\n",
       "    }\n",
       "\n",
       "    .dataframe tbody tr th {\n",
       "        vertical-align: top;\n",
       "    }\n",
       "\n",
       "    .dataframe thead th {\n",
       "        text-align: right;\n",
       "    }\n",
       "</style>\n",
       "<table border=\"1\" class=\"dataframe\">\n",
       "  <thead>\n",
       "    <tr style=\"text-align: right;\">\n",
       "      <th></th>\n",
       "      <th>objid</th>\n",
       "      <th>ra</th>\n",
       "      <th>dec</th>\n",
       "      <th>u</th>\n",
       "      <th>g</th>\n",
       "      <th>r</th>\n",
       "      <th>i</th>\n",
       "      <th>z</th>\n",
       "      <th>run</th>\n",
       "      <th>rerun</th>\n",
       "      <th>camcol</th>\n",
       "      <th>field</th>\n",
       "      <th>specobjid</th>\n",
       "      <th>class</th>\n",
       "      <th>redshift</th>\n",
       "      <th>plate</th>\n",
       "      <th>mjd</th>\n",
       "      <th>fiberid</th>\n",
       "    </tr>\n",
       "  </thead>\n",
       "  <tbody>\n",
       "    <tr>\n",
       "      <td>0</td>\n",
       "      <td>1.237650e+18</td>\n",
       "      <td>183.531326</td>\n",
       "      <td>0.089693</td>\n",
       "      <td>19.47406</td>\n",
       "      <td>17.04240</td>\n",
       "      <td>15.94699</td>\n",
       "      <td>15.50342</td>\n",
       "      <td>15.22531</td>\n",
       "      <td>752</td>\n",
       "      <td>301</td>\n",
       "      <td>4</td>\n",
       "      <td>267</td>\n",
       "      <td>3.722360e+18</td>\n",
       "      <td>STAR</td>\n",
       "      <td>-0.000009</td>\n",
       "      <td>3306</td>\n",
       "      <td>54922</td>\n",
       "      <td>491</td>\n",
       "    </tr>\n",
       "    <tr>\n",
       "      <td>1</td>\n",
       "      <td>1.237650e+18</td>\n",
       "      <td>183.598371</td>\n",
       "      <td>0.135285</td>\n",
       "      <td>18.66280</td>\n",
       "      <td>17.21449</td>\n",
       "      <td>16.67637</td>\n",
       "      <td>16.48922</td>\n",
       "      <td>16.39150</td>\n",
       "      <td>752</td>\n",
       "      <td>301</td>\n",
       "      <td>4</td>\n",
       "      <td>267</td>\n",
       "      <td>3.638140e+17</td>\n",
       "      <td>STAR</td>\n",
       "      <td>-0.000055</td>\n",
       "      <td>323</td>\n",
       "      <td>51615</td>\n",
       "      <td>541</td>\n",
       "    </tr>\n",
       "    <tr>\n",
       "      <td>2</td>\n",
       "      <td>1.237650e+18</td>\n",
       "      <td>183.680207</td>\n",
       "      <td>0.126185</td>\n",
       "      <td>19.38298</td>\n",
       "      <td>18.19169</td>\n",
       "      <td>17.47428</td>\n",
       "      <td>17.08732</td>\n",
       "      <td>16.80125</td>\n",
       "      <td>752</td>\n",
       "      <td>301</td>\n",
       "      <td>4</td>\n",
       "      <td>268</td>\n",
       "      <td>3.232740e+17</td>\n",
       "      <td>GALAXY</td>\n",
       "      <td>0.123111</td>\n",
       "      <td>287</td>\n",
       "      <td>52023</td>\n",
       "      <td>513</td>\n",
       "    </tr>\n",
       "    <tr>\n",
       "      <td>3</td>\n",
       "      <td>1.237650e+18</td>\n",
       "      <td>183.870529</td>\n",
       "      <td>0.049911</td>\n",
       "      <td>17.76536</td>\n",
       "      <td>16.60272</td>\n",
       "      <td>16.16116</td>\n",
       "      <td>15.98233</td>\n",
       "      <td>15.90438</td>\n",
       "      <td>752</td>\n",
       "      <td>301</td>\n",
       "      <td>4</td>\n",
       "      <td>269</td>\n",
       "      <td>3.722370e+18</td>\n",
       "      <td>STAR</td>\n",
       "      <td>-0.000111</td>\n",
       "      <td>3306</td>\n",
       "      <td>54922</td>\n",
       "      <td>510</td>\n",
       "    </tr>\n",
       "    <tr>\n",
       "      <td>4</td>\n",
       "      <td>1.237650e+18</td>\n",
       "      <td>183.883288</td>\n",
       "      <td>0.102557</td>\n",
       "      <td>17.55025</td>\n",
       "      <td>16.26342</td>\n",
       "      <td>16.43869</td>\n",
       "      <td>16.55492</td>\n",
       "      <td>16.61326</td>\n",
       "      <td>752</td>\n",
       "      <td>301</td>\n",
       "      <td>4</td>\n",
       "      <td>269</td>\n",
       "      <td>3.722370e+18</td>\n",
       "      <td>STAR</td>\n",
       "      <td>0.000590</td>\n",
       "      <td>3306</td>\n",
       "      <td>54922</td>\n",
       "      <td>512</td>\n",
       "    </tr>\n",
       "    <tr>\n",
       "      <td>5</td>\n",
       "      <td>1.237650e+18</td>\n",
       "      <td>183.847174</td>\n",
       "      <td>0.173694</td>\n",
       "      <td>19.43133</td>\n",
       "      <td>18.46779</td>\n",
       "      <td>18.16451</td>\n",
       "      <td>18.01475</td>\n",
       "      <td>18.04155</td>\n",
       "      <td>752</td>\n",
       "      <td>301</td>\n",
       "      <td>4</td>\n",
       "      <td>269</td>\n",
       "      <td>3.649550e+17</td>\n",
       "      <td>STAR</td>\n",
       "      <td>0.000315</td>\n",
       "      <td>324</td>\n",
       "      <td>51666</td>\n",
       "      <td>594</td>\n",
       "    </tr>\n",
       "    <tr>\n",
       "      <td>6</td>\n",
       "      <td>1.237650e+18</td>\n",
       "      <td>183.864379</td>\n",
       "      <td>0.019201</td>\n",
       "      <td>19.38322</td>\n",
       "      <td>17.88995</td>\n",
       "      <td>17.10537</td>\n",
       "      <td>16.66393</td>\n",
       "      <td>16.36955</td>\n",
       "      <td>752</td>\n",
       "      <td>301</td>\n",
       "      <td>4</td>\n",
       "      <td>269</td>\n",
       "      <td>3.232870e+17</td>\n",
       "      <td>GALAXY</td>\n",
       "      <td>0.100242</td>\n",
       "      <td>287</td>\n",
       "      <td>52023</td>\n",
       "      <td>559</td>\n",
       "    </tr>\n",
       "    <tr>\n",
       "      <td>7</td>\n",
       "      <td>1.237650e+18</td>\n",
       "      <td>183.900081</td>\n",
       "      <td>0.187473</td>\n",
       "      <td>18.97993</td>\n",
       "      <td>17.84496</td>\n",
       "      <td>17.38022</td>\n",
       "      <td>17.20673</td>\n",
       "      <td>17.07071</td>\n",
       "      <td>752</td>\n",
       "      <td>301</td>\n",
       "      <td>4</td>\n",
       "      <td>269</td>\n",
       "      <td>3.722370e+18</td>\n",
       "      <td>STAR</td>\n",
       "      <td>0.000315</td>\n",
       "      <td>3306</td>\n",
       "      <td>54922</td>\n",
       "      <td>515</td>\n",
       "    </tr>\n",
       "    <tr>\n",
       "      <td>8</td>\n",
       "      <td>1.237650e+18</td>\n",
       "      <td>183.924588</td>\n",
       "      <td>0.097246</td>\n",
       "      <td>17.90616</td>\n",
       "      <td>16.97172</td>\n",
       "      <td>16.67541</td>\n",
       "      <td>16.53776</td>\n",
       "      <td>16.47596</td>\n",
       "      <td>752</td>\n",
       "      <td>301</td>\n",
       "      <td>4</td>\n",
       "      <td>270</td>\n",
       "      <td>3.638290e+17</td>\n",
       "      <td>STAR</td>\n",
       "      <td>0.000089</td>\n",
       "      <td>323</td>\n",
       "      <td>51615</td>\n",
       "      <td>595</td>\n",
       "    </tr>\n",
       "    <tr>\n",
       "      <td>9</td>\n",
       "      <td>1.237650e+18</td>\n",
       "      <td>183.973498</td>\n",
       "      <td>0.081626</td>\n",
       "      <td>18.67249</td>\n",
       "      <td>17.71375</td>\n",
       "      <td>17.49362</td>\n",
       "      <td>17.28284</td>\n",
       "      <td>17.22644</td>\n",
       "      <td>752</td>\n",
       "      <td>301</td>\n",
       "      <td>4</td>\n",
       "      <td>270</td>\n",
       "      <td>3.243690e+17</td>\n",
       "      <td>GALAXY</td>\n",
       "      <td>0.040508</td>\n",
       "      <td>288</td>\n",
       "      <td>52000</td>\n",
       "      <td>400</td>\n",
       "    </tr>\n",
       "  </tbody>\n",
       "</table>\n",
       "</div>"
      ],
      "text/plain": [
       "          objid          ra       dec         u         g         r         i  \\\n",
       "0  1.237650e+18  183.531326  0.089693  19.47406  17.04240  15.94699  15.50342   \n",
       "1  1.237650e+18  183.598371  0.135285  18.66280  17.21449  16.67637  16.48922   \n",
       "2  1.237650e+18  183.680207  0.126185  19.38298  18.19169  17.47428  17.08732   \n",
       "3  1.237650e+18  183.870529  0.049911  17.76536  16.60272  16.16116  15.98233   \n",
       "4  1.237650e+18  183.883288  0.102557  17.55025  16.26342  16.43869  16.55492   \n",
       "5  1.237650e+18  183.847174  0.173694  19.43133  18.46779  18.16451  18.01475   \n",
       "6  1.237650e+18  183.864379  0.019201  19.38322  17.88995  17.10537  16.66393   \n",
       "7  1.237650e+18  183.900081  0.187473  18.97993  17.84496  17.38022  17.20673   \n",
       "8  1.237650e+18  183.924588  0.097246  17.90616  16.97172  16.67541  16.53776   \n",
       "9  1.237650e+18  183.973498  0.081626  18.67249  17.71375  17.49362  17.28284   \n",
       "\n",
       "          z  run  rerun  camcol  field     specobjid   class  redshift  plate  \\\n",
       "0  15.22531  752    301       4    267  3.722360e+18    STAR -0.000009   3306   \n",
       "1  16.39150  752    301       4    267  3.638140e+17    STAR -0.000055    323   \n",
       "2  16.80125  752    301       4    268  3.232740e+17  GALAXY  0.123111    287   \n",
       "3  15.90438  752    301       4    269  3.722370e+18    STAR -0.000111   3306   \n",
       "4  16.61326  752    301       4    269  3.722370e+18    STAR  0.000590   3306   \n",
       "5  18.04155  752    301       4    269  3.649550e+17    STAR  0.000315    324   \n",
       "6  16.36955  752    301       4    269  3.232870e+17  GALAXY  0.100242    287   \n",
       "7  17.07071  752    301       4    269  3.722370e+18    STAR  0.000315   3306   \n",
       "8  16.47596  752    301       4    270  3.638290e+17    STAR  0.000089    323   \n",
       "9  17.22644  752    301       4    270  3.243690e+17  GALAXY  0.040508    288   \n",
       "\n",
       "     mjd  fiberid  \n",
       "0  54922      491  \n",
       "1  51615      541  \n",
       "2  52023      513  \n",
       "3  54922      510  \n",
       "4  54922      512  \n",
       "5  51666      594  \n",
       "6  52023      559  \n",
       "7  54922      515  \n",
       "8  51615      595  \n",
       "9  52000      400  "
      ]
     },
     "execution_count": 504,
     "metadata": {},
     "output_type": "execute_result"
    }
   ],
   "source": [
    "data.head(10)"
   ]
  },
  {
   "cell_type": "code",
   "execution_count": 505,
   "metadata": {
    "colab": {},
    "colab_type": "code",
    "id": "40-ivv77p9I2"
   },
   "outputs": [
    {
     "name": "stdout",
     "output_type": "stream",
     "text": [
      "              ra        dec         u         g         r         i         z  \\\n",
      "0     183.531326   0.089693  19.47406  17.04240  15.94699  15.50342  15.22531   \n",
      "1     183.598371   0.135285  18.66280  17.21449  16.67637  16.48922  16.39150   \n",
      "2     183.680207   0.126185  19.38298  18.19169  17.47428  17.08732  16.80125   \n",
      "3     183.870529   0.049911  17.76536  16.60272  16.16116  15.98233  15.90438   \n",
      "4     183.883288   0.102557  17.55025  16.26342  16.43869  16.55492  16.61326   \n",
      "...          ...        ...       ...       ...       ...       ...       ...   \n",
      "9995  131.316413  51.539547  18.81777  17.47053  16.91508  16.68305  16.50570   \n",
      "9996  131.306083  51.671341  18.27255  17.43849  17.07692  16.71661  16.69897   \n",
      "9997  131.552562  51.666986  18.75818  17.77784  17.51872  17.43302  17.42048   \n",
      "9998  131.477151  51.753068  18.88287  17.91068  17.53152  17.36284  17.13988   \n",
      "9999  131.665012  51.805307  19.27586  17.37829  16.30542  15.83548  15.50588   \n",
      "\n",
      "       run  camcol  field  \n",
      "0      752       4    267  \n",
      "1      752       4    267  \n",
      "2      752       4    268  \n",
      "3      752       4    269  \n",
      "4      752       4    269  \n",
      "...    ...     ...    ...  \n",
      "9995  1345       3    161  \n",
      "9996  1345       3    162  \n",
      "9997  1345       3    162  \n",
      "9998  1345       3    163  \n",
      "9999  1345       3    163  \n",
      "\n",
      "[10000 rows x 10 columns]\n",
      "0       1\n",
      "1       1\n",
      "2       0\n",
      "3       1\n",
      "4       1\n",
      "       ..\n",
      "9995    0\n",
      "9996    0\n",
      "9997    1\n",
      "9998    0\n",
      "9999    0\n",
      "Name: class, Length: 10000, dtype: int64\n"
     ]
    }
   ],
   "source": [
    "# Extract Features\n",
    "X = data[feature_columns]\n",
    "# Extract target\n",
    "# encode target with target_mapping\n",
    "y = data[target_column].map(target_mapping)\n",
    "\n",
    "print(X)\n",
    "print(y)"
   ]
  },
  {
   "cell_type": "markdown",
   "metadata": {
    "colab_type": "text",
    "id": "A3OkZT7HkQM7"
   },
   "source": [
    "Нормализация фичей"
   ]
  },
  {
   "cell_type": "code",
   "execution_count": 506,
   "metadata": {
    "colab": {},
    "colab_type": "code",
    "id": "ynmXS7dMkQM8"
   },
   "outputs": [],
   "source": [
    "# Просто вычтите среднее и поделитe на стандартное отклонение (с помощью пандас). Также преобразуйте всё в np.array\n",
    "X = (X - X.mean()) / X.std()\n",
    "\n",
    "# min-max normalization\n",
    "# X = (X - X.min()) / (X.max() - X.min())"
   ]
  },
  {
   "cell_type": "code",
   "execution_count": 507,
   "metadata": {},
   "outputs": [
    {
     "name": "stdout",
     "output_type": "stream",
     "text": [
      "ra         1.786276\n",
      "dec        2.130163\n",
      "u          1.183295\n",
      "g          2.693976\n",
      "r          7.455837\n",
      "i         10.155896\n",
      "z          5.327702\n",
      "run        1.576865\n",
      "camcol     1.411189\n",
      "field      2.863983\n",
      "dtype: float64\n"
     ]
    }
   ],
   "source": [
    "print(X.max())"
   ]
  },
  {
   "cell_type": "code",
   "execution_count": 508,
   "metadata": {},
   "outputs": [],
   "source": [
    "X = X.to_numpy()\n",
    "y = y.to_numpy()"
   ]
  },
  {
   "cell_type": "code",
   "execution_count": 509,
   "metadata": {},
   "outputs": [
    {
     "name": "stdout",
     "output_type": "stream",
     "text": [
      "[ 0.16745005 -0.58489347  1.0314348  -0.34854195 -0.8372384  -0.94601041\n",
      " -0.99529177 -0.83801899  0.21084118 -0.21761955]\n",
      "1\n"
     ]
    }
   ],
   "source": [
    "print(X[0])\n",
    "print(y[0])"
   ]
  },
  {
   "cell_type": "code",
   "execution_count": 510,
   "metadata": {
    "colab": {},
    "colab_type": "code",
    "id": "XEIewITCqo38"
   },
   "outputs": [
    {
     "ename": "AssertionError",
     "evalue": "Данные не отнормированы",
     "output_type": "error",
     "traceback": [
      "\u001b[0;31m---------------------------------------------------------------------------\u001b[0m",
      "\u001b[0;31mAssertionError\u001b[0m                            Traceback (most recent call last)",
      "\u001b[0;32m<ipython-input-510-3bbab44da409>\u001b[0m in \u001b[0;36m<module>\u001b[0;34m\u001b[0m\n\u001b[1;32m      2\u001b[0m \u001b[0;32massert\u001b[0m \u001b[0mnp\u001b[0m\u001b[0;34m.\u001b[0m\u001b[0mallclose\u001b[0m\u001b[0;34m(\u001b[0m\u001b[0my\u001b[0m\u001b[0;34m[\u001b[0m\u001b[0;34m:\u001b[0m\u001b[0;36m5\u001b[0m\u001b[0;34m]\u001b[0m\u001b[0;34m,\u001b[0m \u001b[0;34m[\u001b[0m\u001b[0;36m1\u001b[0m\u001b[0;34m,\u001b[0m\u001b[0;36m1\u001b[0m\u001b[0;34m,\u001b[0m\u001b[0;36m0\u001b[0m\u001b[0;34m,\u001b[0m\u001b[0;36m1\u001b[0m\u001b[0;34m,\u001b[0m\u001b[0;36m1\u001b[0m\u001b[0;34m]\u001b[0m\u001b[0;34m)\u001b[0m\u001b[0;34m\u001b[0m\u001b[0;34m\u001b[0m\u001b[0m\n\u001b[1;32m      3\u001b[0m \u001b[0;32massert\u001b[0m \u001b[0mX\u001b[0m\u001b[0;34m.\u001b[0m\u001b[0mshape\u001b[0m \u001b[0;34m==\u001b[0m \u001b[0;34m(\u001b[0m\u001b[0;36m10000\u001b[0m\u001b[0;34m,\u001b[0m \u001b[0;36m10\u001b[0m\u001b[0;34m)\u001b[0m\u001b[0;34m\u001b[0m\u001b[0;34m\u001b[0m\u001b[0m\n\u001b[0;32m----> 4\u001b[0;31m \u001b[0;32massert\u001b[0m \u001b[0mnp\u001b[0m\u001b[0;34m.\u001b[0m\u001b[0mallclose\u001b[0m\u001b[0;34m(\u001b[0m\u001b[0mX\u001b[0m\u001b[0;34m.\u001b[0m\u001b[0mmean\u001b[0m\u001b[0;34m(\u001b[0m\u001b[0maxis\u001b[0m\u001b[0;34m=\u001b[0m\u001b[0;36m0\u001b[0m\u001b[0;34m)\u001b[0m\u001b[0;34m,\u001b[0m \u001b[0mnp\u001b[0m\u001b[0;34m.\u001b[0m\u001b[0mzeros\u001b[0m\u001b[0;34m(\u001b[0m\u001b[0;36m10\u001b[0m\u001b[0;34m)\u001b[0m\u001b[0;34m)\u001b[0m \u001b[0;32mand\u001b[0m \u001b[0mnp\u001b[0m\u001b[0;34m.\u001b[0m\u001b[0mallclose\u001b[0m\u001b[0;34m(\u001b[0m\u001b[0mX\u001b[0m\u001b[0;34m.\u001b[0m\u001b[0mstd\u001b[0m\u001b[0;34m(\u001b[0m\u001b[0maxis\u001b[0m\u001b[0;34m=\u001b[0m\u001b[0;36m0\u001b[0m\u001b[0;34m)\u001b[0m\u001b[0;34m,\u001b[0m \u001b[0mnp\u001b[0m\u001b[0;34m.\u001b[0m\u001b[0mones\u001b[0m\u001b[0;34m(\u001b[0m\u001b[0;36m10\u001b[0m\u001b[0;34m)\u001b[0m\u001b[0;34m)\u001b[0m\u001b[0;34m,\u001b[0m \u001b[0;34m'Данные не отнормированы'\u001b[0m\u001b[0;34m\u001b[0m\u001b[0;34m\u001b[0m\u001b[0m\n\u001b[0m",
      "\u001b[0;31mAssertionError\u001b[0m: Данные не отнормированы"
     ]
    }
   ],
   "source": [
    "assert type(X) == np.ndarray and type(y) == np.ndarray, 'Проверьте, что получившиеся массивы являются np.ndarray'\n",
    "assert np.allclose(y[:5], [1,1,0,1,1])\n",
    "assert X.shape == (10000, 10)\n",
    "assert np.allclose(X.mean(axis=0), np.zeros(10)) and np.allclose(X.std(axis=0), np.ones(10)), 'Данные не отнормированы'\n"
   ]
  },
  {
   "cell_type": "markdown",
   "metadata": {
    "colab_type": "text",
    "id": "VTcR3q0SkQNj"
   },
   "source": [
    "Обучение"
   ]
  },
  {
   "cell_type": "code",
   "execution_count": 511,
   "metadata": {
    "colab": {},
    "colab_type": "code",
    "id": "m5AFbCY4kQNk"
   },
   "outputs": [],
   "source": [
    "# Split train/test\n",
    "X_train, X_test, y_train, y_test = train_test_split(X, y, random_state=42)\n",
    "# Превратим данные в тензоры, чтобы потом было удобнее\n",
    "X_train = torch.FloatTensor(X_train)\n",
    "y_train = torch.LongTensor(y_train)\n",
    "X_test = torch.FloatTensor(X_test)\n",
    "y_test = torch.LongTensor(y_test)"
   ]
  },
  {
   "cell_type": "markdown",
   "metadata": {
    "colab_type": "text",
    "id": "ZDCt0vtlkQNo"
   },
   "source": [
    "Хорошо, данные мы подготовили, теперь надо объявить модель"
   ]
  },
  {
   "cell_type": "markdown",
   "metadata": {},
   "source": [
    "Обучайте на батчах с помощью оптимизатора Adam, lr подберите сами, пробуйте что-то вроде 1e-2\n",
    "\n",
    "Архитектура:\n",
    "\n",
    "1. Dense Layer с relu активацией и 50 нейронами\n",
    "2. Dropout 80% (если другой keep rate дает сходимость лучше, то можно изменить) (попробуйте 50%) \n",
    "3. BatchNorm\n",
    "4. Dense Layer с relu активацией и 100 нейронами\n",
    "5. Dropout 80% (если другой keep rate дает сходимость лучше, то можно изменить) (попробуйте для разнообразия 50%)\n",
    "6. BatchNorm\n",
    "7. Выходной Dense слой c количеством нейронов, равному количеству классов\n",
    "\n",
    "Лосс - CrossEntropy."
   ]
  },
  {
   "cell_type": "code",
   "execution_count": 512,
   "metadata": {
    "colab": {},
    "colab_type": "code",
    "id": "fI6ZqCaCkQNp"
   },
   "outputs": [
    {
     "name": "stdout",
     "output_type": "stream",
     "text": [
      "Sequential(\n",
      "  (0): Linear(in_features=10, out_features=50, bias=True)\n",
      "  (1): ReLU()\n",
      "  (2): Dropout(p=0.25, inplace=False)\n",
      "  (3): Linear(in_features=50, out_features=100, bias=True)\n",
      "  (4): ReLU()\n",
      "  (5): BatchNorm1d(100, eps=1e-05, momentum=0.1, affine=True, track_running_stats=True)\n",
      "  (6): Dropout(p=0.5, inplace=False)\n",
      "  (7): Linear(in_features=100, out_features=3, bias=True)\n",
      "  (8): BatchNorm1d(3, eps=1e-05, momentum=0.1, affine=True, track_running_stats=True)\n",
      "  (9): ReLU()\n",
      ")\n"
     ]
    }
   ],
   "source": [
    "torch.manual_seed(42) \n",
    "np.random.seed(42)\n",
    "eta = 0.01\n",
    "\n",
    "model = nn.Sequential(\n",
    "    nn.Linear(10, 50),\n",
    "    nn.ReLU(),\n",
    "    nn.Dropout(p=0.25),\n",
    "    nn.Linear(50, 100),\n",
    "    nn.ReLU(),\n",
    "    nn.BatchNorm1d(num_features=100),\n",
    "    nn.Dropout(p=0.5),\n",
    "    nn.Linear(100, 3),\n",
    "    nn.BatchNorm1d(num_features=3),\n",
    "    nn.ReLU()\n",
    ")\n",
    "\n",
    "    \n",
    "loss_fn = nn.CrossEntropyLoss()\n",
    "optimizer = torch.optim.Adam(model.parameters(), lr=eta)\n",
    "\n",
    "print(model)"
   ]
  },
  {
   "cell_type": "markdown",
   "metadata": {
    "colab_type": "text",
    "id": "GkUkeHfokQNs"
   },
   "source": [
    "### Обучающий цикл"
   ]
  },
  {
   "cell_type": "code",
   "execution_count": 514,
   "metadata": {
    "colab": {},
    "colab_type": "code",
    "id": "41jYcT6AkQNt"
   },
   "outputs": [],
   "source": [
    "def train(X_train, y_train, X_test, y_test, num_epoch):\n",
    "    train_losses = []\n",
    "    test_losses = []\n",
    "    for i in range(num_epoch):\n",
    "        epoch_train_losses = []\n",
    "        epoch_test_losses = []\n",
    "        #optimizer.zero_grad()\n",
    "        #avg_loss = 0.\n",
    "        for X_batch, y_batch in batch_generator(X_train, y_train, 500):\n",
    "            # На лекции мы рассказывали, что дропаут работает по-разному во время обучения и реального предсказания\n",
    "            # Чтобы это учесть нам нужно включать и выключать режим обучения, делается это командой ниже\n",
    "            model.train(True)\n",
    "            \n",
    "            # Посчитаем предсказание и лосс\n",
    "            y_pred = model(X_batch)\n",
    "            loss = loss_fn(y_pred, y_batch)\n",
    "            \n",
    "            # зануляем градиент\n",
    "            optimizer.zero_grad()\n",
    "            \n",
    "            # backward\n",
    "            # ОБНОВЛЯЕМ веса\n",
    "            loss.backward()\n",
    "            optimizer.step()\n",
    "            \n",
    "            # Запишем число (не тензор) в наши батчевые лоссы\n",
    "            epoch_train_losses.append(loss.item()) \n",
    "            \n",
    "            #loss = loss / len(y_batch)\n",
    "            #avg_loss += loss.item() / len(X_train)\n",
    "            \n",
    "            \n",
    "        \n",
    "        # Теперь посчитаем лосс на тесте\n",
    "        model.train(False)\n",
    "        with torch.no_grad():\n",
    "            for X_batch, y_batch in batch_generator(X_test, y_test, 500):\n",
    "                y_pred = model(X_batch)\n",
    "                loss = loss_fn(y_pred, y_batch)\n",
    "                epoch_test_losses.append(loss.item())\n",
    "        \n",
    "        \n",
    "        train_loss = np.mean(epoch_train_losses)\n",
    "        train_losses.append(train_loss)\n",
    "        test_loss = np.mean(epoch_test_losses)\n",
    "        test_losses.append(test_loss)\n",
    "        print('Epoch {}/{} \\t train_loss={:.4f} \\t test_loss={:.4f}'.format(\n",
    "        i + 1, num_epoch, train_loss, test_loss))\n",
    "    return train_losses, test_losses"
   ]
  },
  {
   "cell_type": "code",
   "execution_count": 515,
   "metadata": {
    "colab": {},
    "colab_type": "code",
    "id": "idGcIKlIth3D"
   },
   "outputs": [],
   "source": [
    "def check_loss_decreased():\n",
    "    print(\"На графике сверху, точно есть сходимость? Точно-точно? [Y/N]\")\n",
    "    s = input()\n",
    "    if s.lower() == 'y':\n",
    "        print(\"Хорошо!\")\n",
    "    else:\n",
    "        raise RuntimeError(\"Можно уменьшить дропаут, уменьшить lr, поправить архитектуру, etc\")"
   ]
  },
  {
   "cell_type": "code",
   "execution_count": 516,
   "metadata": {
    "colab": {},
    "colab_type": "code",
    "id": "cDyg5zMckQOX",
    "scrolled": false
   },
   "outputs": [
    {
     "name": "stdout",
     "output_type": "stream",
     "text": [
      "Epoch 1/100 \t train_loss=0.8999 \t test_loss=0.8108\n",
      "Epoch 2/100 \t train_loss=0.7328 \t test_loss=0.6704\n",
      "Epoch 3/100 \t train_loss=0.6348 \t test_loss=0.5510\n",
      "Epoch 4/100 \t train_loss=0.5129 \t test_loss=0.4156\n",
      "Epoch 5/100 \t train_loss=0.4119 \t test_loss=0.3399\n",
      "Epoch 6/100 \t train_loss=0.3501 \t test_loss=0.3059\n",
      "Epoch 7/100 \t train_loss=0.3140 \t test_loss=0.2834\n",
      "Epoch 8/100 \t train_loss=0.2893 \t test_loss=0.2589\n",
      "Epoch 9/100 \t train_loss=0.2715 \t test_loss=0.2442\n",
      "Epoch 10/100 \t train_loss=0.2568 \t test_loss=0.2344\n",
      "Epoch 11/100 \t train_loss=0.2477 \t test_loss=0.2345\n",
      "Epoch 12/100 \t train_loss=0.2383 \t test_loss=0.2132\n",
      "Epoch 13/100 \t train_loss=0.2261 \t test_loss=0.2066\n",
      "Epoch 14/100 \t train_loss=0.2266 \t test_loss=0.2182\n",
      "Epoch 15/100 \t train_loss=0.2321 \t test_loss=0.2115\n",
      "Epoch 16/100 \t train_loss=0.2199 \t test_loss=0.1969\n",
      "Epoch 17/100 \t train_loss=0.2104 \t test_loss=0.1899\n",
      "Epoch 18/100 \t train_loss=0.2099 \t test_loss=0.1904\n",
      "Epoch 19/100 \t train_loss=0.2020 \t test_loss=0.1934\n",
      "Epoch 20/100 \t train_loss=0.2001 \t test_loss=0.1790\n",
      "Epoch 21/100 \t train_loss=0.1903 \t test_loss=0.1728\n",
      "Epoch 22/100 \t train_loss=0.1893 \t test_loss=0.1779\n",
      "Epoch 23/100 \t train_loss=0.1899 \t test_loss=0.1739\n",
      "Epoch 24/100 \t train_loss=0.1876 \t test_loss=0.1815\n",
      "Epoch 25/100 \t train_loss=0.1963 \t test_loss=0.1716\n",
      "Epoch 26/100 \t train_loss=0.1876 \t test_loss=0.1662\n",
      "Epoch 27/100 \t train_loss=0.1792 \t test_loss=0.1752\n",
      "Epoch 28/100 \t train_loss=0.1859 \t test_loss=0.1652\n",
      "Epoch 29/100 \t train_loss=0.1748 \t test_loss=0.1542\n",
      "Epoch 30/100 \t train_loss=0.1719 \t test_loss=0.1572\n",
      "Epoch 31/100 \t train_loss=0.1730 \t test_loss=0.1568\n",
      "Epoch 32/100 \t train_loss=0.1764 \t test_loss=0.1648\n",
      "Epoch 33/100 \t train_loss=0.1745 \t test_loss=0.1651\n",
      "Epoch 34/100 \t train_loss=0.1719 \t test_loss=0.1550\n",
      "Epoch 35/100 \t train_loss=0.1735 \t test_loss=0.1538\n",
      "Epoch 36/100 \t train_loss=0.1677 \t test_loss=0.1462\n",
      "Epoch 37/100 \t train_loss=0.1630 \t test_loss=0.1503\n",
      "Epoch 38/100 \t train_loss=0.1617 \t test_loss=0.1427\n",
      "Epoch 39/100 \t train_loss=0.1580 \t test_loss=0.1349\n",
      "Epoch 40/100 \t train_loss=0.1586 \t test_loss=0.1470\n",
      "Epoch 41/100 \t train_loss=0.1596 \t test_loss=0.1706\n",
      "Epoch 42/100 \t train_loss=0.1712 \t test_loss=0.1461\n",
      "Epoch 43/100 \t train_loss=0.1572 \t test_loss=0.1392\n",
      "Epoch 44/100 \t train_loss=0.1531 \t test_loss=0.1468\n",
      "Epoch 45/100 \t train_loss=0.1642 \t test_loss=0.1491\n",
      "Epoch 46/100 \t train_loss=0.1720 \t test_loss=0.1377\n",
      "Epoch 47/100 \t train_loss=0.1558 \t test_loss=0.1412\n",
      "Epoch 48/100 \t train_loss=0.1558 \t test_loss=0.1379\n",
      "Epoch 49/100 \t train_loss=0.1622 \t test_loss=0.1458\n",
      "Epoch 50/100 \t train_loss=0.1604 \t test_loss=0.1368\n",
      "Epoch 51/100 \t train_loss=0.1551 \t test_loss=0.1364\n",
      "Epoch 52/100 \t train_loss=0.1487 \t test_loss=0.1453\n",
      "Epoch 53/100 \t train_loss=0.1542 \t test_loss=0.1342\n",
      "Epoch 54/100 \t train_loss=0.1462 \t test_loss=0.1311\n",
      "Epoch 55/100 \t train_loss=0.1570 \t test_loss=0.1392\n",
      "Epoch 56/100 \t train_loss=0.1485 \t test_loss=0.1318\n",
      "Epoch 57/100 \t train_loss=0.1488 \t test_loss=0.1328\n",
      "Epoch 58/100 \t train_loss=0.1430 \t test_loss=0.1330\n",
      "Epoch 59/100 \t train_loss=0.1499 \t test_loss=0.1361\n",
      "Epoch 60/100 \t train_loss=0.1539 \t test_loss=0.1318\n",
      "Epoch 61/100 \t train_loss=0.1526 \t test_loss=0.1309\n",
      "Epoch 62/100 \t train_loss=0.1488 \t test_loss=0.1345\n",
      "Epoch 63/100 \t train_loss=0.1441 \t test_loss=0.1270\n",
      "Epoch 64/100 \t train_loss=0.1486 \t test_loss=0.1284\n",
      "Epoch 65/100 \t train_loss=0.1473 \t test_loss=0.1356\n",
      "Epoch 66/100 \t train_loss=0.1485 \t test_loss=0.1284\n",
      "Epoch 67/100 \t train_loss=0.1473 \t test_loss=0.1291\n",
      "Epoch 68/100 \t train_loss=0.1458 \t test_loss=0.1304\n",
      "Epoch 69/100 \t train_loss=0.1510 \t test_loss=0.1312\n",
      "Epoch 70/100 \t train_loss=0.1474 \t test_loss=0.1436\n",
      "Epoch 71/100 \t train_loss=0.1497 \t test_loss=0.1273\n",
      "Epoch 72/100 \t train_loss=0.1374 \t test_loss=0.1260\n",
      "Epoch 73/100 \t train_loss=0.1453 \t test_loss=0.1245\n",
      "Epoch 74/100 \t train_loss=0.1390 \t test_loss=0.1305\n",
      "Epoch 75/100 \t train_loss=0.1485 \t test_loss=0.1272\n",
      "Epoch 76/100 \t train_loss=0.1409 \t test_loss=0.1292\n",
      "Epoch 77/100 \t train_loss=0.1434 \t test_loss=0.1277\n",
      "Epoch 78/100 \t train_loss=0.1435 \t test_loss=0.1286\n",
      "Epoch 79/100 \t train_loss=0.1440 \t test_loss=0.1230\n",
      "Epoch 80/100 \t train_loss=0.1467 \t test_loss=0.1266\n",
      "Epoch 81/100 \t train_loss=0.1463 \t test_loss=0.1277\n",
      "Epoch 82/100 \t train_loss=0.1429 \t test_loss=0.1302\n",
      "Epoch 83/100 \t train_loss=0.1383 \t test_loss=0.1297\n",
      "Epoch 84/100 \t train_loss=0.1421 \t test_loss=0.1263\n",
      "Epoch 85/100 \t train_loss=0.1400 \t test_loss=0.1272\n",
      "Epoch 86/100 \t train_loss=0.1441 \t test_loss=0.1246\n",
      "Epoch 87/100 \t train_loss=0.1446 \t test_loss=0.1277\n",
      "Epoch 88/100 \t train_loss=0.1365 \t test_loss=0.1226\n",
      "Epoch 89/100 \t train_loss=0.1427 \t test_loss=0.1316\n",
      "Epoch 90/100 \t train_loss=0.1384 \t test_loss=0.1264\n",
      "Epoch 91/100 \t train_loss=0.1344 \t test_loss=0.1286\n",
      "Epoch 92/100 \t train_loss=0.1398 \t test_loss=0.1254\n",
      "Epoch 93/100 \t train_loss=0.1352 \t test_loss=0.1257\n",
      "Epoch 94/100 \t train_loss=0.1373 \t test_loss=0.1205\n",
      "Epoch 95/100 \t train_loss=0.1324 \t test_loss=0.1221\n",
      "Epoch 96/100 \t train_loss=0.1326 \t test_loss=0.1240\n",
      "Epoch 97/100 \t train_loss=0.1344 \t test_loss=0.1248\n",
      "Epoch 98/100 \t train_loss=0.1375 \t test_loss=0.1287\n",
      "Epoch 99/100 \t train_loss=0.1326 \t test_loss=0.1271\n",
      "Epoch 100/100 \t train_loss=0.1369 \t test_loss=0.1217\n"
     ]
    },
    {
     "data": {
      "image/png": "[encoded data removed]",
      "text/plain": [
       "<Figure size 432x288 with 1 Axes>"
      ]
     },
     "metadata": {
      "needs_background": "light"
     },
     "output_type": "display_data"
    },
    {
     "name": "stdout",
     "output_type": "stream",
     "text": [
      "На графике сверху, точно есть сходимость? Точно-точно? [Y/N]\n",
      "y\n",
      "Хорошо!\n"
     ]
    }
   ],
   "source": [
    "#Подберите количество эпох так, чтобы график loss сходился\n",
    "train_losses, test_losses = train(X_train, y_train, X_test, y_test, 100) \n",
    "plt.plot(range(len(train_losses)), train_losses, label='train')\n",
    "plt.plot(range(len(test_losses)), test_losses, label='test')\n",
    "plt.legend()\n",
    "plt.show()\n",
    "    \n",
    "check_loss_decreased()\n",
    "assert train_losses[-1] < 0.3 and test_losses[-1] < 0.3"
   ]
  },
  {
   "cell_type": "markdown",
   "metadata": {
    "colab_type": "text",
    "id": "UV1jaOM1SuTL"
   },
   "source": [
    "### Вычислите accuracy получившейся модели на train и test"
   ]
  },
  {
   "cell_type": "code",
   "execution_count": 517,
   "metadata": {
    "colab": {},
    "colab_type": "code",
    "id": "dXqXflGcTBKS"
   },
   "outputs": [
    {
     "name": "stdout",
     "output_type": "stream",
     "text": [
      "Train accuracy: 0.9690666666666666\n",
      "Test accuracy: 0.9636\n"
     ]
    }
   ],
   "source": [
    "from sklearn.metrics import accuracy_score\n",
    "\n",
    "\n",
    "model.eval()\n",
    "train_pred_labels = torch.max(model(X_train), 1).indices\n",
    "test_pred_labels = torch.max(model(X_test), 1).indices\n",
    "\n",
    "#print(train_pred_labels)\n",
    "#print(test_pred_labels)\n",
    "\n",
    "train_acc = accuracy_score(y_train, train_pred_labels)\n",
    "test_acc = accuracy_score(y_test, test_pred_labels)\n",
    "\n",
    "assert train_acc > 0.9, \"Если уж классифицировать звезды, которые уже видел, то не хуже, чем в 90% случаев\"\n",
    "assert test_acc > 0.9, \"Новые звезды тоже надо классифицировать хотя бы в 90% случаев\"\n",
    "\n",
    "print(\"Train accuracy: {}\\nTest accuracy: {}\".format(train_acc, test_acc))\n"
   ]
  },
  {
   "cell_type": "markdown",
   "metadata": {
    "colab_type": "text",
    "id": "IB1XswA2kQOd"
   },
   "source": [
    "# Задание 3. Исправление ошибок в архитектуре\n",
    "\n",
    "Только что вы обучили полносвязную нейронную сеть. Теперь вам предстоит проанализировать архитектуру нейронной сети ниже, исправить в ней ошибки и  обучить её с помощью той же функции train. \n",
    "\n",
    "Будьте осторожнее и убедитесь, что перед запуском train вы вновь переопределили все необходимые внешние переменные (train обращается к глобальным переменным, в целом так делать не стоит, но сейчас это было оправдано, так как иначе нам пришлось бы передавать порядка 7-8 аргументов).\n",
    "\n",
    "Чтобы у вас получилась такая же архитектура, как у нас, и ответы совпали, давайте определим некоторые правила, как исправлять ошибки:\n",
    "\n",
    "1. Если вы видите лишний нелинейный слой, который стоит не на своем месте, просто удалите его. (не нужно добавлять новые слои, чтобы сделать постановку изначального слоя разумной. Удалять надо самый последний слой, который все портит. Для линейных слоев надо что-то исправить, а не удалить его)\n",
    "2. Если у слоя нет активации, то добавьте ReLU или другую подходящую активацию\n",
    "3. Если что-то не так с learning_rate, то поставьте 1e-2\n",
    "4. Если что-то не так с параметрами, считайте первый параметр, который появляется, как верный (т.е. далее в сети должен использоваться он).\n",
    "5. Ошибки могут быть и в полносвязных слоях. \n",
    "6. Любые другие проблемы решаются более менее однозначно, если же у вас есть серьезные сомнения, то напишите в беседу в телеграме и пинганите меня @runfme\n"
   ]
  },
  {
   "cell_type": "markdown",
   "metadata": {
    "colab_type": "text",
    "id": "Un7PyM39kQOe"
   },
   "source": [
    "Задача все та же - классификация небесных объектов на том же датасете. После исправления сети вам нужно обучить ее.\n",
    "\n",
    "**Ответ на задачу - средний лосс на тестовом датасете**"
   ]
  },
  {
   "cell_type": "code",
   "execution_count": 0,
   "metadata": {
    "colab": {},
    "colab_type": "code",
    "id": "3M9P67WekQOe"
   },
   "outputs": [],
   "source": [
    "torch.manual_seed(42)   \n",
    "np.random.seed(42)\n",
    "# WRONG ARCH\n",
    "model = nn.Sequential(\n",
    "    nn.Dropout(p=0.5),\n",
    "    nn.Linear(6, 50),\n",
    "    nn.ReLU(),\n",
    "    nn.Dropout(p=0.5),\n",
    "    nn.Linear(100, 200),\n",
    "    nn.Softmax(),\n",
    "    nn.Linear(200, 200),\n",
    "    nn.ReLU(),\n",
    "    nn.Dropout(p=0.5),\n",
    "    nn.Linear(200, 3),\n",
    "    nn.Dropout(p=0.5)\n",
    ")\n",
    "\n",
    "\n",
    "loss_fn = nn.CrossEntropyLoss()\n",
    "optimizer = torch.optim.Adam(model.parameters[:-2], lr=1e-100)"
   ]
  },
  {
   "cell_type": "code",
   "execution_count": 549,
   "metadata": {
    "colab": {},
    "colab_type": "code",
    "id": "T0HEx6vbkQOi"
   },
   "outputs": [
    {
     "name": "stdout",
     "output_type": "stream",
     "text": [
      "Sequential(\n",
      "  (0): Linear(in_features=10, out_features=50, bias=True)\n",
      "  (1): ReLU()\n",
      "  (2): Dropout(p=0.25, inplace=False)\n",
      "  (3): Linear(in_features=50, out_features=100, bias=True)\n",
      "  (4): ReLU()\n",
      "  (5): Dropout(p=0.25, inplace=False)\n",
      "  (6): Linear(in_features=100, out_features=200, bias=True)\n",
      "  (7): ReLU()\n",
      "  (8): Dropout(p=0.25, inplace=False)\n",
      "  (9): Linear(in_features=200, out_features=3, bias=True)\n",
      "  (10): ReLU()\n",
      ")\n"
     ]
    }
   ],
   "source": [
    "# RIGHT ARCH\n",
    "torch.manual_seed(42)   \n",
    "np.random.seed(42)\n",
    "model = nn.Sequential(\n",
    "    nn.Linear(10, 50),\n",
    "    nn.ReLU(),\n",
    "    nn.Dropout(p=0.25),\n",
    "    nn.Linear(50, 100),\n",
    "    nn.ReLU(),\n",
    "    nn.Dropout(p=0.25),\n",
    "    nn.Linear(100, 200),\n",
    "    nn.ReLU(),\n",
    "    nn.Dropout(p=0.25),\n",
    "    nn.Linear(200, 3),\n",
    "    nn.ReLU()\n",
    ")\n",
    "\n",
    "\n",
    "loss_fn = nn.CrossEntropyLoss()\n",
    "optimizer = torch.optim.Adam(model.parameters(), lr=1e-2)\n",
    "print(model)"
   ]
  },
  {
   "cell_type": "markdown",
   "metadata": {
    "colab_type": "text",
    "id": "oGhmQg06gGiT"
   },
   "source": [
    "### Обучите и протестируйте модель так же, как вы это сделали в задаче 2. Вычислите accuracy."
   ]
  },
  {
   "cell_type": "code",
   "execution_count": 550,
   "metadata": {},
   "outputs": [],
   "source": [
    "def train2(X_train, y_train, X_test, y_test, num_epoch):\n",
    "    train_losses = []\n",
    "    test_losses = []\n",
    "    for i in range(num_epoch):\n",
    "        epoch_train_losses = []\n",
    "        epoch_test_losses = []\n",
    "        #optimizer.zero_grad()\n",
    "        #avg_loss = 0.\n",
    "        for X_batch, y_batch in batch_generator(X_train, y_train, 500):\n",
    "            model.train(True)\n",
    "            y_pred = model(X_batch)\n",
    "            loss = loss_fn(y_pred, y_batch)\n",
    "            \n",
    "            optimizer.zero_grad()\n",
    "            \n",
    "            loss.backward()\n",
    "            optimizer.step()\n",
    "            \n",
    "            epoch_train_losses.append(loss.item())\n",
    "        model.train(False)\n",
    "        with torch.no_grad():\n",
    "            for X_batch, y_batch in batch_generator(X_test, y_test, 500):\n",
    "                y_pred = model(X_batch)\n",
    "                loss = loss_fn(y_pred, y_batch)\n",
    "                epoch_test_losses.append(loss.item())\n",
    "        \n",
    "        \n",
    "        train_loss = np.mean(epoch_train_losses)\n",
    "        train_losses.append(train_loss)\n",
    "        test_loss = np.mean(epoch_test_losses)\n",
    "        test_losses.append(test_loss)\n",
    "        print('Epoch {}/{} \\t train_loss={:.4f} \\t test_loss={:.4f}'.format(\n",
    "        i + 1, num_epoch, train_loss, test_loss))\n",
    "    return train_losses, test_losses"
   ]
  },
  {
   "cell_type": "code",
   "execution_count": 551,
   "metadata": {},
   "outputs": [
    {
     "name": "stdout",
     "output_type": "stream",
     "text": [
      "Epoch 1/100 \t train_loss=0.8012 \t test_loss=0.6761\n",
      "Epoch 2/100 \t train_loss=0.6383 \t test_loss=0.6058\n",
      "Epoch 3/100 \t train_loss=0.5762 \t test_loss=0.5246\n",
      "Epoch 4/100 \t train_loss=0.4945 \t test_loss=0.3698\n",
      "Epoch 5/100 \t train_loss=0.3813 \t test_loss=0.2823\n",
      "Epoch 6/100 \t train_loss=0.3154 \t test_loss=0.2600\n",
      "Epoch 7/100 \t train_loss=0.2781 \t test_loss=0.2434\n",
      "Epoch 8/100 \t train_loss=0.2591 \t test_loss=0.2268\n",
      "Epoch 9/100 \t train_loss=0.2443 \t test_loss=0.2152\n",
      "Epoch 10/100 \t train_loss=0.2346 \t test_loss=0.2118\n",
      "Epoch 11/100 \t train_loss=0.2256 \t test_loss=0.2102\n",
      "Epoch 12/100 \t train_loss=0.2214 \t test_loss=0.1942\n",
      "Epoch 13/100 \t train_loss=0.2148 \t test_loss=0.1878\n",
      "Epoch 14/100 \t train_loss=0.2137 \t test_loss=0.1973\n",
      "Epoch 15/100 \t train_loss=0.2075 \t test_loss=0.1926\n",
      "Epoch 16/100 \t train_loss=0.2085 \t test_loss=0.1922\n",
      "Epoch 17/100 \t train_loss=0.2035 \t test_loss=0.1941\n",
      "Epoch 18/100 \t train_loss=0.2028 \t test_loss=0.1917\n",
      "Epoch 19/100 \t train_loss=0.2026 \t test_loss=0.1960\n",
      "Epoch 20/100 \t train_loss=0.1965 \t test_loss=0.1755\n",
      "Epoch 21/100 \t train_loss=0.1863 \t test_loss=0.1816\n",
      "Epoch 22/100 \t train_loss=0.1899 \t test_loss=0.1794\n",
      "Epoch 23/100 \t train_loss=0.1847 \t test_loss=0.1782\n",
      "Epoch 24/100 \t train_loss=0.1882 \t test_loss=0.1759\n",
      "Epoch 25/100 \t train_loss=0.1913 \t test_loss=0.1710\n",
      "Epoch 26/100 \t train_loss=0.1838 \t test_loss=0.1659\n",
      "Epoch 27/100 \t train_loss=0.1844 \t test_loss=0.1718\n",
      "Epoch 28/100 \t train_loss=0.1836 \t test_loss=0.1709\n",
      "Epoch 29/100 \t train_loss=0.1738 \t test_loss=0.1734\n",
      "Epoch 30/100 \t train_loss=0.1769 \t test_loss=0.1644\n",
      "Epoch 31/100 \t train_loss=0.1734 \t test_loss=0.1547\n",
      "Epoch 32/100 \t train_loss=0.1769 \t test_loss=0.1634\n",
      "Epoch 33/100 \t train_loss=0.1736 \t test_loss=0.1560\n",
      "Epoch 34/100 \t train_loss=0.1792 \t test_loss=0.1555\n",
      "Epoch 35/100 \t train_loss=0.1654 \t test_loss=0.1589\n",
      "Epoch 36/100 \t train_loss=0.1744 \t test_loss=0.1558\n",
      "Epoch 37/100 \t train_loss=0.1680 \t test_loss=0.1602\n",
      "Epoch 38/100 \t train_loss=0.1756 \t test_loss=0.1647\n",
      "Epoch 39/100 \t train_loss=0.1666 \t test_loss=0.1462\n",
      "Epoch 40/100 \t train_loss=0.1585 \t test_loss=0.1521\n",
      "Epoch 41/100 \t train_loss=0.1652 \t test_loss=0.1534\n",
      "Epoch 42/100 \t train_loss=0.1615 \t test_loss=0.1487\n",
      "Epoch 43/100 \t train_loss=0.1648 \t test_loss=0.1488\n",
      "Epoch 44/100 \t train_loss=0.1627 \t test_loss=0.1556\n",
      "Epoch 45/100 \t train_loss=0.1661 \t test_loss=0.1445\n",
      "Epoch 46/100 \t train_loss=0.1625 \t test_loss=0.1453\n",
      "Epoch 47/100 \t train_loss=0.1564 \t test_loss=0.1344\n",
      "Epoch 48/100 \t train_loss=0.1637 \t test_loss=0.1600\n",
      "Epoch 49/100 \t train_loss=0.1655 \t test_loss=0.1439\n",
      "Epoch 50/100 \t train_loss=0.1615 \t test_loss=0.1470\n",
      "Epoch 51/100 \t train_loss=0.1628 \t test_loss=0.1544\n",
      "Epoch 52/100 \t train_loss=0.1617 \t test_loss=0.1418\n",
      "Epoch 53/100 \t train_loss=0.1503 \t test_loss=0.1287\n",
      "Epoch 54/100 \t train_loss=0.1500 \t test_loss=0.1365\n",
      "Epoch 55/100 \t train_loss=0.1514 \t test_loss=0.1407\n",
      "Epoch 56/100 \t train_loss=0.1523 \t test_loss=0.1380\n",
      "Epoch 57/100 \t train_loss=0.1499 \t test_loss=0.1420\n",
      "Epoch 58/100 \t train_loss=0.1557 \t test_loss=0.1389\n",
      "Epoch 59/100 \t train_loss=0.1521 \t test_loss=0.1346\n",
      "Epoch 60/100 \t train_loss=0.1442 \t test_loss=0.1276\n",
      "Epoch 61/100 \t train_loss=0.1391 \t test_loss=0.1311\n",
      "Epoch 62/100 \t train_loss=0.1404 \t test_loss=0.1259\n",
      "Epoch 63/100 \t train_loss=0.1419 \t test_loss=0.1261\n",
      "Epoch 64/100 \t train_loss=0.1398 \t test_loss=0.1317\n",
      "Epoch 65/100 \t train_loss=0.1446 \t test_loss=0.1314\n",
      "Epoch 66/100 \t train_loss=0.1514 \t test_loss=0.1511\n",
      "Epoch 67/100 \t train_loss=0.1572 \t test_loss=0.1304\n",
      "Epoch 68/100 \t train_loss=0.1373 \t test_loss=0.1313\n",
      "Epoch 69/100 \t train_loss=0.1393 \t test_loss=0.1369\n",
      "Epoch 70/100 \t train_loss=0.1485 \t test_loss=0.1266\n",
      "Epoch 71/100 \t train_loss=0.1480 \t test_loss=0.1288\n",
      "Epoch 72/100 \t train_loss=0.1458 \t test_loss=0.1431\n",
      "Epoch 73/100 \t train_loss=0.1482 \t test_loss=0.1349\n",
      "Epoch 74/100 \t train_loss=0.1372 \t test_loss=0.1247\n",
      "Epoch 75/100 \t train_loss=0.1393 \t test_loss=0.1201\n",
      "Epoch 76/100 \t train_loss=0.1419 \t test_loss=0.1321\n",
      "Epoch 77/100 \t train_loss=0.1349 \t test_loss=0.1285\n",
      "Epoch 78/100 \t train_loss=0.1405 \t test_loss=0.1221\n",
      "Epoch 79/100 \t train_loss=0.1460 \t test_loss=0.1228\n",
      "Epoch 80/100 \t train_loss=0.1414 \t test_loss=0.1358\n",
      "Epoch 81/100 \t train_loss=0.1463 \t test_loss=0.1177\n",
      "Epoch 82/100 \t train_loss=0.1389 \t test_loss=0.1237\n",
      "Epoch 83/100 \t train_loss=0.1396 \t test_loss=0.1272\n",
      "Epoch 84/100 \t train_loss=0.1386 \t test_loss=0.1250\n",
      "Epoch 85/100 \t train_loss=0.1406 \t test_loss=0.1269\n",
      "Epoch 86/100 \t train_loss=0.1391 \t test_loss=0.1228\n",
      "Epoch 87/100 \t train_loss=0.1389 \t test_loss=0.1360\n",
      "Epoch 88/100 \t train_loss=0.1433 \t test_loss=0.1363\n",
      "Epoch 89/100 \t train_loss=0.1314 \t test_loss=0.1304\n",
      "Epoch 90/100 \t train_loss=0.1301 \t test_loss=0.1282\n",
      "Epoch 91/100 \t train_loss=0.1336 \t test_loss=0.1305\n",
      "Epoch 92/100 \t train_loss=0.1324 \t test_loss=0.1280\n",
      "Epoch 93/100 \t train_loss=0.1317 \t test_loss=0.1195\n",
      "Epoch 94/100 \t train_loss=0.1342 \t test_loss=0.1238\n",
      "Epoch 95/100 \t train_loss=0.1288 \t test_loss=0.1231\n",
      "Epoch 96/100 \t train_loss=0.1326 \t test_loss=0.1244\n",
      "Epoch 97/100 \t train_loss=0.1256 \t test_loss=0.1408\n",
      "Epoch 98/100 \t train_loss=0.1335 \t test_loss=0.1242\n",
      "Epoch 99/100 \t train_loss=0.1298 \t test_loss=0.1140\n",
      "Epoch 100/100 \t train_loss=0.1274 \t test_loss=0.1137\n"
     ]
    },
    {
     "data": {
      "image/png": "[encoded data removed]",
      "text/plain": [
       "<Figure size 432x288 with 1 Axes>"
      ]
     },
     "metadata": {
      "needs_background": "light"
     },
     "output_type": "display_data"
    }
   ],
   "source": [
    "train_losses, test_losses = train2(X_train, y_train, X_test, y_test, 100) \n",
    "plt.plot(range(len(train_losses)), train_losses, label='train')\n",
    "plt.plot(range(len(test_losses)), test_losses, label='test')\n",
    "plt.legend()\n",
    "plt.show()"
   ]
  },
  {
   "cell_type": "code",
   "execution_count": 552,
   "metadata": {
    "colab": {},
    "colab_type": "code",
    "id": "7SZv9yARkQOo"
   },
   "outputs": [
    {
     "name": "stdout",
     "output_type": "stream",
     "text": [
      "Train accuracy: 0.9726666666666667\n",
      "Test accuracy: 0.9644\n"
     ]
    }
   ],
   "source": [
    "from sklearn.metrics import accuracy_score\n",
    "\n",
    "\n",
    "model.eval()\n",
    "train_pred_labels = torch.max(model(X_train), 1).indices\n",
    "test_pred_labels = torch.max(model(X_test), 1).indices\n",
    "\n",
    "train_acc = accuracy_score(y_train, train_pred_labels)\n",
    "test_acc = accuracy_score(y_test, test_pred_labels)\n",
    "\n",
    "#assert train_acc > 0.9, \"Если уж классифицировать звезды, которые уже видел, то не хуже, чем в 90% случаев\"\n",
    "#assert test_acc > 0.9, \"Новые звезды тоже надо классифицировать хотя бы в 90% случаев\"\n",
    "\n",
    "print(\"Train accuracy: {}\\nTest accuracy: {}\".format(train_acc, test_acc))\n"
   ]
  },
  {
   "cell_type": "markdown",
   "metadata": {
    "colab_type": "text",
    "id": "bUGWpT3MkQOr"
   },
   "source": [
    "# Задание 4. Stack layers\n",
    "\n",
    "Давайте посмотрим, когда добавление перестает улучшать метрики. Увеличивайте блоков из слоев в сети, пока минимальный лосс на тестовом датасете за все время обучения не перестанет уменьшаться (20 эпох). \n",
    "\n",
    "Стоит помнить, что нельзя переиспользовать слои с предыдущих обучений, потому что они уже будут с подобранными весами.\n",
    "\n",
    "**Чтобы получить воспроизводимость и идентичный нашему ответ, надо объявлять все слои в порядке, в котором они применяются внутри модели. Это важно, если вы будете собирать свою модель из частей. Перед объявлением этих слоев по порядку напишите**\n",
    "> torch.manual_seed(42)   \n",
    "> np.random.seed(42)\n",
    "\n",
    "**При чем каждый раз, когда вы заново создаете модель, перезадавайте random seeds**\n",
    "\n",
    "**Опитимизатор - Adam(lr=1e-2)**\n"
   ]
  },
  {
   "cell_type": "code",
   "execution_count": 0,
   "metadata": {
    "colab": {},
    "colab_type": "code",
    "id": "JZzgn9y8kQOr"
   },
   "outputs": [],
   "source": [
    "# МОДЕЛЬ ДЛЯ ПРИМЕРА, НА САМОМ ДЕЛЕ ВАМ ПРИДЕТСЯ СОЗДАВАТЬ НОВУЮ МОДЕЛЬ ДЛЯ КАЖДОГО КОЛИЧЕСТВА БЛОКОВ\n",
    "model = nn.Sequential(\n",
    "    nn.Linear(len(feature_columns), 100),\n",
    "    nn.ReLU(),\n",
    "    nn.Dropout(p=0.5),\n",
    "    # Начало блока, который надо вставалять много раз\n",
    "    nn.Linear(100, 100),\n",
    "    nn.ReLU(),\n",
    "    nn.BatchNorm1d(100),\n",
    "    # Конец блока\n",
    "    nn.Linear(100, 3)\n",
    "    # Блока Softmax нет, поэтому нам нужно использовать лосс - CrossEntropyLoss\n",
    ")"
   ]
  },
  {
   "cell_type": "code",
   "execution_count": 0,
   "metadata": {
    "colab": {},
    "colab_type": "code",
    "id": "yYUngAvSkQOw",
    "scrolled": false
   },
   "outputs": [],
   "source": [
    "# Вы уже многое умеете, поэтому теперь код надо написать самому\n",
    "# Идея - разделить модель на части.\n",
    "# Вначале создать head часть как Sequential модель, потом в цикле создать Sequential модели, которые представляют\n",
    "# из себя блоки, потом создать tail часть тоже как Sequential, а потом объединить их в одну Sequential модель \n",
    "# вот таким кодом: nn.Sequential(header, *blocks, footer)\n",
    "# Важная идея тут состоит в том, что модели могут быть частями других моделей)\n",
    "<YOUR CODE>"
   ]
  },
  {
   "cell_type": "code",
   "execution_count": 0,
   "metadata": {
    "colab": {},
    "colab_type": "code",
    "id": "hh5U-iUTgzxY"
   },
   "outputs": [],
   "source": []
  },
  {
   "cell_type": "markdown",
   "metadata": {
    "colab_type": "text",
    "id": "In4h-bM_g0Vb"
   },
   "source": [
    "## Задание 5. Сделайте выводы \n",
    "Начиная с какого количества блоков минимальный лосс за время обучения увеличивается? Почему лишнее количество блоков не помогает модели? "
   ]
  }
 ],
 "metadata": {
  "colab": {
   "collapsed_sections": [],
   "name": "[homework]neural_networks_pytorch.ipynb",
   "provenance": []
  },
  "hide_input": false,
  "kernelspec": {
   "display_name": "Python 3",
   "language": "python",
   "name": "python3"
  },
  "language_info": {
   "codemirror_mode": {
    "name": "ipython",
    "version": 3
   },
   "file_extension": ".py",
   "mimetype": "text/x-python",
   "name": "python",
   "nbconvert_exporter": "python",
   "pygments_lexer": "ipython3",
   "version": "3.7.4"
  },
  "varInspector": {
   "cols": {
    "lenName": 16,
    "lenType": 16,
    "lenVar": 40
   },
   "kernels_config": {
    "python": {
     "delete_cmd_postfix": "",
     "delete_cmd_prefix": "del ",
     "library": "var_list.py",
     "varRefreshCmd": "print(var_dic_list())"
    },
    "r": {
     "delete_cmd_postfix": ") ",
     "delete_cmd_prefix": "rm(",
     "library": "var_list.r",
     "varRefreshCmd": "cat(var_dic_list()) "
    }
   },
   "types_to_exclude": [
    "module",
    "function",
    "builtin_function_or_method",
    "instance",
    "_Feature"
   ],
   "window_display": false
  }
 },
 "nbformat": 4,
 "nbformat_minor": 1
}
